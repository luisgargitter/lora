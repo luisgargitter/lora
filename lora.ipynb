{
 "cells": [
  {
   "cell_type": "code",
   "execution_count": 106,
   "id": "11498bed-4e4b-4eaf-90fb-eb133030dbe3",
   "metadata": {},
   "outputs": [],
   "source": [
    "import matplotlib.pyplot as plt\n",
    "import numpy as np\n",
    "import scipy\n",
    "import scipy.signal\n",
    "from scipy.io.wavfile import write"
   ]
  },
  {
   "cell_type": "code",
   "execution_count": 553,
   "id": "befd0696-4bd9-4cec-a57a-086ed6324e5e",
   "metadata": {},
   "outputs": [
    {
     "name": "stdout",
     "output_type": "stream",
     "text": [
      "0.004285714285714286\n"
     ]
    }
   ],
   "source": [
    "SF = 7 #Spreading Factor\n",
    "B = 125e3 # Bandwidth\n",
    "fmin = 433.05e6\n",
    "fmax = 434.79e6 - B\n",
    "\n",
    "Nsym = 2**SF\n",
    "spb = 120e-3/(64*8*7) # Seconds per bit derived from rate table\n",
    "Ts = spb*2**SF # Duration of a chirp\n",
    "print(Ts)\n",
    "\n",
    "sn = 4 # Samples per period of highest frequency (>= 2 for nyquist)\n",
    "fs = int(sn*(fmax+B)) # resolution"
   ]
  },
  {
   "cell_type": "markdown",
   "id": "c69c6ed6-2bc4-4d8f-a00a-69527093389c",
   "metadata": {},
   "source": [
    "$x(t) = \\text{sin} \\left[ 2 \\pi t \\left( \\frac k2 t + f_0 \\right) \\right]$"
   ]
  },
  {
   "cell_type": "code",
   "execution_count": 554,
   "id": "09ad93b5-2409-4d24-bb4e-e2324e25e0a0",
   "metadata": {},
   "outputs": [],
   "source": [
    "chirp = lambda f0, k, t: np.sin(2*np.pi*t*(f0 + k*t/2))\n",
    "shift = lambda x, t: np.concatenate((x[int(t*len(x)):], x[:int(t*len(x))])) # used for generating symbols from basechirp\n",
    "butter_bandpass = lambda low, high, fs, order: scipy.signal.butter(order, [2*low/fs, 2*high/fs], btype='band', output='sos')\n",
    "butter_lowpass = lambda high, fs, order: scipy.signal.butter(order, 2*high/fs, btype='low', output='sos')"
   ]
  },
  {
   "cell_type": "code",
   "execution_count": 555,
   "id": "4eba4cde-e8d5-4a85-b317-c3cc1754a63f",
   "metadata": {},
   "outputs": [],
   "source": [
    "baseChirp = chirp(fmin, B/Ts, np.linspace(0, Ts, int(fs*Ts)))\n",
    "downChirp = chirp(fmin+B, -B/Ts, np.linspace(0, Ts, int(fs*Ts)))\n",
    "                                             \n",
    "timingOffsets = np.arange(0, Nsym)/(Nsym) # times where symbols are cut and stitched together"
   ]
  },
  {
   "cell_type": "code",
   "execution_count": 600,
   "id": "5439ed84-9412-4253-a13b-de1267e51e88",
   "metadata": {},
   "outputs": [],
   "source": [
    "# ASCII-Werte für Nachricht generieren\n",
    "seq = [ord(char) for char in \"Computer Networks\"]\n",
    "\n",
    "# generate and transmit signal\n",
    "preamble = np.concatenate([baseChirp for i in range(0, 8)]) \n",
    "preamble = np.concatenate([preamble, downChirp, downChirp, downChirp[:len(downChirp)//2]])\n",
    "postamble = np.concatenate([downChirp for i in range(0, 2)])\n",
    "message = np.concatenate([shift(baseChirp, timingOffsets[i]) for i in seq])\n",
    "tx = shift(baseChirp, timingOffsets[32]) #np.concatenate((preamble, message, postamble))"
   ]
  },
  {
   "cell_type": "code",
   "execution_count": 601,
   "id": "97a05c95-32b4-4309-8d62-7e8a456cd3db",
   "metadata": {},
   "outputs": [],
   "source": [
    "# filter carrier range\n",
    "sos = butter_bandpass(fmin, fmax+B, fs, 5)\n",
    "fcx = scipy.signal.sosfilt(sos, tx)\n",
    "\n",
    "Fcx = np.abs(np.fft.rfft(fcx))\n",
    "dFcarrier = np.diff(Fcx)\n",
    "Bh = Fcarrier - np.max(Fcx)/2\n",
    "crossings = np.where(np.sign(Bh[:-1]) != np.sign(Bh[1:]))[0]\n",
    "fcarrier = int(np.mean(crossings))/Ts\n",
    "fbase = fcarrier - B/2\n",
    "\n",
    "# shift to baseband\n",
    "bx = fcx * np.exp(-1j * 2 * np.pi * fbase * np.linspace(0, len(fcx)/fs, len(fcx)))\n",
    "\n",
    "# filter base band\n",
    "sos = butter_lowpass(B, fs, 5)\n",
    "fbx = scipy.signal.sosfilt(sos, np.real(bx)+np.imag(bx))"
   ]
  },
  {
   "cell_type": "code",
   "execution_count": 606,
   "id": "71c3d39a-6dc0-422d-8e8d-198c6b20ca87",
   "metadata": {},
   "outputs": [
    {
     "name": "stdout",
     "output_type": "stream",
     "text": [
      "500096 125000.0\n"
     ]
    },
    {
     "ename": "TypeError",
     "evalue": "slice indices must be integers or None or have an __index__ method",
     "output_type": "error",
     "traceback": [
      "\u001b[0;31m---------------------------------------------------------------------------\u001b[0m",
      "\u001b[0;31mTypeError\u001b[0m                                 Traceback (most recent call last)",
      "\u001b[0;32m/tmp/ipykernel_44867/2149938338.py\u001b[0m in \u001b[0;36m<module>\u001b[0;34m\u001b[0m\n\u001b[1;32m     11\u001b[0m \u001b[0mFdcx\u001b[0m \u001b[0;34m=\u001b[0m \u001b[0mnp\u001b[0m\u001b[0;34m.\u001b[0m\u001b[0mabs\u001b[0m\u001b[0;34m(\u001b[0m\u001b[0mnp\u001b[0m\u001b[0;34m.\u001b[0m\u001b[0mfft\u001b[0m\u001b[0;34m.\u001b[0m\u001b[0mfft\u001b[0m\u001b[0;34m(\u001b[0m\u001b[0mdcx\u001b[0m\u001b[0;34m)\u001b[0m\u001b[0;34m)\u001b[0m\u001b[0;34m\u001b[0m\u001b[0;34m\u001b[0m\u001b[0m\n\u001b[1;32m     12\u001b[0m \u001b[0mprint\u001b[0m\u001b[0;34m(\u001b[0m\u001b[0mlen\u001b[0m\u001b[0;34m(\u001b[0m\u001b[0mFdcx\u001b[0m\u001b[0;34m)\u001b[0m\u001b[0;34m,\u001b[0m \u001b[0mB\u001b[0m\u001b[0;34m)\u001b[0m\u001b[0;34m\u001b[0m\u001b[0;34m\u001b[0m\u001b[0m\n\u001b[0;32m---> 13\u001b[0;31m \u001b[0mFl\u001b[0m \u001b[0;34m=\u001b[0m \u001b[0mnp\u001b[0m\u001b[0;34m.\u001b[0m\u001b[0mabs\u001b[0m\u001b[0;34m(\u001b[0m\u001b[0mFdcx\u001b[0m\u001b[0;34m[\u001b[0m\u001b[0;34m:\u001b[0m\u001b[0mlen\u001b[0m\u001b[0;34m(\u001b[0m\u001b[0mFdcx\u001b[0m\u001b[0;34m)\u001b[0m\u001b[0;34m//\u001b[0m\u001b[0mB\u001b[0m\u001b[0;34m]\u001b[0m\u001b[0;34m)\u001b[0m\u001b[0;34m\u001b[0m\u001b[0;34m\u001b[0m\u001b[0m\n\u001b[0m\u001b[1;32m     14\u001b[0m \u001b[0mFh\u001b[0m \u001b[0;34m=\u001b[0m \u001b[0mnp\u001b[0m\u001b[0;34m.\u001b[0m\u001b[0mabs\u001b[0m\u001b[0;34m(\u001b[0m\u001b[0mFdcx\u001b[0m\u001b[0;34m[\u001b[0m\u001b[0mlen\u001b[0m\u001b[0;34m(\u001b[0m\u001b[0mFl\u001b[0m\u001b[0;34m)\u001b[0m\u001b[0;34m:\u001b[0m\u001b[0;36m2\u001b[0m\u001b[0;34m*\u001b[0m\u001b[0mlen\u001b[0m\u001b[0;34m(\u001b[0m\u001b[0mFl\u001b[0m\u001b[0;34m)\u001b[0m\u001b[0;34m]\u001b[0m\u001b[0;34m)\u001b[0m\u001b[0;34m\u001b[0m\u001b[0;34m\u001b[0m\u001b[0m\n\u001b[1;32m     15\u001b[0m \u001b[0mF\u001b[0m \u001b[0;34m=\u001b[0m \u001b[0mFl\u001b[0m\u001b[0;34m**\u001b[0m\u001b[0;36m2\u001b[0m \u001b[0;34m+\u001b[0m \u001b[0mFh\u001b[0m\u001b[0;34m**\u001b[0m\u001b[0;36m2\u001b[0m\u001b[0;34m\u001b[0m\u001b[0;34m\u001b[0m\u001b[0m\n",
      "\u001b[0;31mTypeError\u001b[0m: slice indices must be integers or None or have an __index__ method"
     ]
    }
   ],
   "source": [
    "# downsample\n",
    "nsam = int(((sn*B)//Nsym + 1) * Nsym)\n",
    "dsx = np.take(fbx, np.linspace(0, len(fbx)-1, nsam).astype('int'))\n",
    "sos = butter_lowpass(B, nsam, 5)\n",
    "fdsx = scipy.signal.sosfilt(sos, dsx)\n",
    "\n",
    "# dechirp\n",
    "downChirp = chirp(B, -(B/Ts), np.linspace(0, Ts, nsam))\n",
    "dcx = fdsx * downChirp\n",
    "\n",
    "Fdcx = np.abs(np.fft.fft(dcx))\n",
    "print(len(Fdcx), B)\n",
    "Fl = np.abs(Fdcx[:len(Fdcx)//B])\n",
    "Fh = np.abs(Fdcx[len(Fl):2*len(Fl)])\n",
    "F = Fl**2 + Fh**2\n",
    "\n",
    "print(len(Fl))\n",
    "\n",
    "s = round(np.argmax(F) * (Nsym/len(F)))\n",
    "print(s)\n",
    "\n",
    "plt.plot(np.abs(Fl))\n",
    "plt.plot(np.abs(Fh))\n",
    "#plt.plot(np.abs(F))"
   ]
  },
  {
   "cell_type": "code",
   "execution_count": null,
   "id": "22dcef85-bacb-4282-9c58-b3076edd319f",
   "metadata": {},
   "outputs": [],
   "source": []
  }
 ],
 "metadata": {
  "kernelspec": {
   "display_name": "Python 3 (ipykernel)",
   "language": "python",
   "name": "python3"
  },
  "language_info": {
   "codemirror_mode": {
    "name": "ipython",
    "version": 3
   },
   "file_extension": ".py",
   "mimetype": "text/x-python",
   "name": "python",
   "nbconvert_exporter": "python",
   "pygments_lexer": "ipython3",
   "version": "3.10.12"
  }
 },
 "nbformat": 4,
 "nbformat_minor": 5
}
