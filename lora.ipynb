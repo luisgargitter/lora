{
 "cells": [
  {
   "cell_type": "code",
   "execution_count": 2,
   "id": "11498bed-4e4b-4eaf-90fb-eb133030dbe3",
   "metadata": {},
   "outputs": [],
   "source": [
    "import matplotlib.pyplot as plt\n",
    "import numpy as np\n",
    "import scipy\n",
    "import scipy.signal\n",
    "from scipy.io.wavfile import write"
   ]
  },
  {
   "cell_type": "code",
   "execution_count": 3,
   "id": "befd0696-4bd9-4cec-a57a-086ed6324e5e",
   "metadata": {},
   "outputs": [],
   "source": [
    "SF = 7 #Spreading Factor\n",
    "B = 125e3 # Bandwidth\n",
    "fmin = 433.05e6\n",
    "fmax = 434.79e6 - B\n",
    "\n",
    "Nsym = 2**SF\n",
    "Tbit = 120e-3/(64*8*(2**7))\n",
    "Ts = Nsym*Tbit # Duration of a chirp\n",
    "\n",
    "sn = 4 # Samples per period of highest frequency (>= 2 for nyquist)\n",
    "fs = int(sn*(fmax+B)*Ts) # resolution\n",
    "\n",
    "SNR = 100 #0.05 # Signal to noise ratio\n",
    "\n",
    "t = np.linspace(0, Ts, fs) # sampling points\n",
    "width, height = 8, 6  # figure sizes"
   ]
  },
  {
   "cell_type": "markdown",
   "id": "c69c6ed6-2bc4-4d8f-a00a-69527093389c",
   "metadata": {},
   "source": [
    "$x(t) = \\text{sin} \\left[ 2 \\pi t \\left( \\frac k2 t + f_0 \\right) \\right]$"
   ]
  },
  {
   "cell_type": "code",
   "execution_count": 4,
   "id": "09ad93b5-2409-4d24-bb4e-e2324e25e0a0",
   "metadata": {},
   "outputs": [],
   "source": [
    "chirp = lambda f0, k, t: np.sin(2*np.pi*t*(f0 + k*t/2))\n",
    "shift = lambda x, t: np.concatenate((x[int(t*len(x)):], x[:int(t*len(x))])) # used for generating symbols from basechirp\n",
    "butter_bandpass = lambda low, high, fs, order: scipy.signal.butter(order, [2*low/fs, 2*high/fs], btype='band', analog=False)\n",
    "butter_lowpass = lambda high, fs, order: scipy.signal.butter(order, 2*high/fs, btype='low', analog=False)"
   ]
  },
  {
   "cell_type": "code",
   "execution_count": 5,
   "id": "4eba4cde-e8d5-4a85-b317-c3cc1754a63f",
   "metadata": {},
   "outputs": [],
   "source": [
    "baseChirp = chirp(fmin, B/Ts, t)\n",
    "downChirp = baseChirp[::-1] # inverse Chirp for de-chirping\n",
    "\n",
    "timingOffsets = np.arange(0, Nsym)/(Nsym) # times where symbols are cut and stitched together"
   ]
  },
  {
   "cell_type": "code",
   "execution_count": 6,
   "id": "5439ed84-9412-4253-a13b-de1267e51e88",
   "metadata": {},
   "outputs": [],
   "source": [
    "# ASCII-Werte für Nachricht generieren\n",
    "seq = [ord(char) for char in \"Computer Networks\"]\n",
    "\n",
    "# generate and transmit signal\n",
    "preamble = np.concatenate([baseChirp for i in range(0, 8)]) \n",
    "preamble = np.concatenate([preamble, downChirp, downChirp, downChirp[:len(downChirp)//2]])\n",
    "postamble = np.concatenate([downChirp for i in range(0, 2)])\n",
    "message = np.concatenate([shift(baseChirp, timingOffsets[i]) for i in seq])\n",
    "tx = np.concatenate((preamble, message, postamble))"
   ]
  },
  {
   "cell_type": "code",
   "execution_count": 10,
   "id": "97a05c95-32b4-4309-8d62-7e8a456cd3db",
   "metadata": {},
   "outputs": [
    {
     "data": {
      "text/plain": [
       "<matplotlib.collections.QuadMesh at 0x7ff3c1a1efd0>"
      ]
     },
     "execution_count": 10,
     "metadata": {},
     "output_type": "execute_result"
    },
    {
     "data": {
      "image/png": "[encoded data removed]",
      "text/plain": [
       "<Figure size 800x600 with 1 Axes>"
      ]
     },
     "metadata": {},
     "output_type": "display_data"
    }
   ],
   "source": [
    "# filter carrier range\n",
    "b, a = butter_bandpass(fmin, fmax, fs/Ts, 5)\n",
    "fcx = scipy.signal.lfilter(b, a, tx)\n",
    "\n",
    "# shift to baseband\n",
    "\n",
    "bx = fcx #np.abs(fcx * np.exp(-1j * 2 * np.pi * fmin * np.linspace(0, len(tx)*Ts/fs, len(tx))))\n",
    "\n",
    "#filter base band\n",
    "b, a = butter_lowpass(B, fs/Ts, 4)\n",
    "fbx = scipy.signal.lfilter(b, a, bx) \n",
    "rsx = fbx#[::int((fmax+B)/B)]\n",
    "\n",
    "tx_f, tx_t, tx_Zxx = scipy.signal.stft(rsx, fs, nperseg=256)\n",
    "\n",
    "plt.figure(figsize=(width, height))\n",
    "plt.title(\"received\")\n",
    "plt.xlabel(\"time\")\n",
    "plt.ylabel(\"frequency\")\n",
    "plt.pcolormesh(tx_t, tx_f, np.abs(tx_Zxx))\n",
    "#plt.savefig(\"received.png\", dpi=300)"
   ]
  },
  {
   "cell_type": "code",
   "execution_count": 17,
   "id": "fd23c8c8-f9fe-4b80-bc72-85acebd7d833",
   "metadata": {},
   "outputs": [
    {
     "ename": "NameError",
     "evalue": "name 'ww' is not defined",
     "output_type": "error",
     "traceback": [
      "\u001b[0;31m---------------------------------------------------------------------------\u001b[0m",
      "\u001b[0;31mNameError\u001b[0m                                 Traceback (most recent call last)",
      "Cell \u001b[0;32mIn[17], line 4\u001b[0m\n\u001b[1;32m      2\u001b[0m noise \u001b[38;5;241m=\u001b[39m np\u001b[38;5;241m.\u001b[39mrandom\u001b[38;5;241m.\u001b[39mnormal(\u001b[38;5;241m-\u001b[39m\u001b[38;5;241m1\u001b[39m\u001b[38;5;241m/\u001b[39mSNR, \u001b[38;5;241m1\u001b[39m\u001b[38;5;241m/\u001b[39mSNR, \u001b[38;5;28mlen\u001b[39m(tx))\n\u001b[1;32m      3\u001b[0m rx \u001b[38;5;241m=\u001b[39m tx \u001b[38;5;241m+\u001b[39m noise\n\u001b[0;32m----> 4\u001b[0m rx_f, rx_t, rx_Zxx \u001b[38;5;241m=\u001b[39m scipy\u001b[38;5;241m.\u001b[39msignal\u001b[38;5;241m.\u001b[39mstft(rx, fs, nperseg\u001b[38;5;241m=\u001b[39m\u001b[43mww\u001b[49m)\n\u001b[1;32m      5\u001b[0m frequencyRangeOfInterest \u001b[38;5;241m=\u001b[39m \u001b[38;5;241m4\u001b[39m\u001b[38;5;241m*\u001b[39m\u001b[38;5;28mlen\u001b[39m(tx_f)\u001b[38;5;241m/\u001b[39m\u001b[38;5;241m/\u001b[39msn\n\u001b[1;32m      7\u001b[0m plt\u001b[38;5;241m.\u001b[39mfigure(figsize\u001b[38;5;241m=\u001b[39m(width, height))\n",
      "\u001b[0;31mNameError\u001b[0m: name 'ww' is not defined"
     ]
    }
   ],
   "source": [
    "# Simulate signal manipulation during travel\n",
    "noise = np.random.normal(-1/SNR, 1/SNR, len(tx))\n",
    "rx = tx + noise\n",
    "rx_f, rx_t, rx_Zxx = scipy.signal.stft(rx, fs, nperseg=ww)\n",
    "frequencyRangeOfInterest = 4*len(tx_f)//sn\n",
    "\n",
    "plt.figure(figsize=(width, height))\n",
    "plt.title(\"received\")\n",
    "plt.xlabel(\"time\")\n",
    "plt.ylabel(\"frequency\")\n",
    "plt.pcolormesh(rx_t, rx_f[:frequencyRangeOfInterest], np.abs(rx_Zxx[:frequencyRangeOfInterest]))\n",
    "plt.savefig(\"received.png\")"
   ]
  },
  {
   "cell_type": "code",
   "execution_count": null,
   "id": "c12a7413-56ec-4261-bae2-2c3e71da62b9",
   "metadata": {},
   "outputs": [],
   "source": [
    "#signal peilung\n"
   ]
  },
  {
   "cell_type": "code",
   "execution_count": null,
   "id": "02e21d2a-f73a-4227-b231-1e27abf25ae1",
   "metadata": {},
   "outputs": [],
   "source": [
    "#demodulation preparation\n",
    "lowpass = scipy.signal.lfilter(b, a, rx)\n",
    "#lp_f, lp_t, lp_Zxx = scipy.signal.stft(lowpass, fs, nperseg=ww)\n",
    "#dechirp\n",
    "dechirped = lowpass * np.ndarray.flatten(np.repeat(np.array([downChirp]), len(tx)/fs, 0))\n",
    "dc_f, dc_t, dc_Zxx = scipy.signal.stft(dechirped, fs, nperseg=ww)\n",
    "#remove preamble and excess frequencies\n",
    "sx = int(2*len(preamble)//ww)\n",
    "sy = np.argmin(np.abs(dc_f-2*(f0)))\n",
    "ey = np.argmin(np.abs(dc_f-2*(f0+B)))\n",
    "is_t = dc_t[sx:]\n",
    "is_f = dc_f[sy:ey]\n",
    "is_Zxx = dc_Zxx[sy:ey,sx:]\n",
    "\n",
    "\n",
    "#unify low- and high-pitch parts of chirps.\n",
    "un_t = is_t\n",
    "un_f = is_f[:len(is_f)//2]\n",
    "un_Zxx = np.add(is_Zxx[:len(un_f)], is_Zxx[len(un_f):2*len(un_f)])\n",
    "# seperate transmission into symbols\n",
    "samplesPerSymbol = len(is_t)//len(seq)\n",
    "splits = np.array([i*samplesPerSymbol for i in range(1, len(seq)+1)])\n",
    "sy_t = splits\n",
    "sy_f = un_f\n",
    "sy_Zxx = np.split(un_Zxx, splits, axis=1)[:-1]\n",
    "\n",
    "#sum over time\n",
    "fin_t = np.arange(0, len(sy_t))\n",
    "fin_f = np.arange(0, len(sy_f))\n",
    "fin_Zxx = np.sum(np.abs(sy_Zxx), axis=2)\n",
    "peaks = np.argmax(fin_Zxx, axis=1)\n",
    "\n",
    "read = str(''.join(map(chr, peaks)))\n",
    "print(read)\n"
   ]
  },
  {
   "cell_type": "code",
   "execution_count": null,
   "id": "f8563f17-a098-4d94-99ab-856f86745e4f",
   "metadata": {},
   "outputs": [],
   "source": [
    "#demodulation preparation\n",
    "lowpass = scipy.signal.lfilter(b, a, rx)\n",
    "lp_f, lp_t, lp_Zxx = scipy.signal.stft(lowpass, fs, nperseg=ww)\n",
    "frequencyRangeOfInterest = 4*len(tx_f)//sn\n",
    "\n",
    "plt.figure(figsize=(width, height))\n",
    "plt.title(\"iso\")\n",
    "plt.xlabel(\"time\")\n",
    "plt.ylabel(\"frequency\")\n",
    "plt.pcolormesh(dc_t, dc_f[:frequencyRangeOfInterest], np.abs(dc_Zxx[:frequencyRangeOfInterest]))\n",
    "plt.savefig(\"dechirped.png\")"
   ]
  },
  {
   "cell_type": "code",
   "execution_count": null,
   "id": "e16c0a5f-6fdb-4947-af4a-19d8ce9b4a83",
   "metadata": {},
   "outputs": [],
   "source": [
    "#dechirp\n",
    "dechirped = lowpass * np.ndarray.flatten(np.repeat(np.array([downChirp]), len(tx)/fs, 0))\n",
    "dc_f, dc_t, dc_Zxx = scipy.signal.stft(dechirped, fs, nperseg=ww)\n",
    "frequencyRangeOfInterest = 8*len(tx_f)//sn\n",
    "\n",
    "plt.figure(figsize=(width, height))\n",
    "plt.title(\"dechirped\")\n",
    "plt.xlabel(\"time\")\n",
    "plt.ylabel(\"frequency\")\n",
    "plt.pcolormesh(dc_t, dc_f[:frequencyRangeOfInterest], np.abs(dc_Zxx[:frequencyRangeOfInterest]))\n",
    "plt.savefig(\"dechirped.png\")"
   ]
  },
  {
   "cell_type": "code",
   "execution_count": null,
   "id": "ec8e1dab-d926-4219-9afb-25373a5c40c3",
   "metadata": {},
   "outputs": [],
   "source": [
    "#remove preamble and excess frequencies\n",
    "sx = int(2*len(preamble)//ww)\n",
    "sy = np.argmin(np.abs(dc_f-2*(f0)))\n",
    "ey = np.argmin(np.abs(dc_f-2*(f0+B)))\n",
    "is_t = dc_t[sx:]\n",
    "is_f = dc_f[sy:ey]\n",
    "is_Zxx = dc_Zxx[sy:ey,sx:]\n",
    "\n",
    "plt.figure(figsize=(width, height))\n",
    "plt.title(\"isolated\")\n",
    "plt.xlabel(\"time\")\n",
    "plt.ylabel(\"frequency\")\n",
    "plt.pcolormesh(is_t, is_f, np.abs(is_Zxx))\n",
    "plt.savefig(\"isolated.png\")"
   ]
  },
  {
   "cell_type": "code",
   "execution_count": null,
   "id": "97158134-699a-473b-931d-87d413ac4d6f",
   "metadata": {},
   "outputs": [],
   "source": [
    "#unify low- and high-pitch parts of chirps.\n",
    "un_t = is_t\n",
    "un_f = is_f[:len(is_f)//2]\n",
    "un_Zxx = np.add(is_Zxx[:len(un_f)], is_Zxx[len(un_f):2*len(un_f)])\n",
    "\n",
    "plt.figure(figsize=(width, height))\n",
    "plt.title(\"unified\")\n",
    "plt.xlabel(\"time\")\n",
    "plt.ylabel(\"frequency\")\n",
    "plt.pcolormesh(un_t, un_f, np.abs(un_Zxx))\n",
    "plt.savefig(\"unified.png\")"
   ]
  },
  {
   "cell_type": "code",
   "execution_count": null,
   "id": "8c0d7a3b-3a57-43b3-bba2-483f079ca40e",
   "metadata": {},
   "outputs": [],
   "source": [
    "# seperate transmission into symbols\n",
    "samplesPerSymbol = len(is_t)//len(seq)\n",
    "splits = np.array([i*samplesPerSymbol for i in range(1, len(seq)+1)])\n",
    "sy_t = splits\n",
    "sy_f = un_f\n",
    "sy_Zxx = np.split(un_Zxx, splits, axis=1)[:-1]\n",
    "\n",
    "#sum over time\n",
    "fin_t = np.arange(0, len(sy_t))\n",
    "fin_f = np.arange(0, len(sy_f))\n",
    "fin_Zxx = np.sum(np.abs(sy_Zxx), axis=2)\n",
    "peaks = np.argmax(fin_Zxx, axis=1)\n",
    "\n",
    "read = str(''.join(map(chr, peaks)))\n",
    "print(read)\n",
    "\n",
    "plt.figure(figsize=(width, height))\n",
    "plt.title(\"final\")\n",
    "plt.xlabel(\"time/symbol\")\n",
    "plt.ylabel(\"frequency/value\")\n",
    "plt.pcolormesh(fin_t, fin_f, np.transpose(fin_Zxx))\n",
    "plt.savefig(\"final.png\")"
   ]
  },
  {
   "cell_type": "code",
   "execution_count": null,
   "id": "fd3065bc-5622-4677-be3b-10f57e2596be",
   "metadata": {},
   "outputs": [],
   "source": [
    "# generate Audio\n",
    "rate = fs\n",
    "data = tx\n",
    "scaled = np.int16(data / np.max(np.abs(data)) * 32767)\n",
    "write('tx.wav', rate, scaled)\n",
    "\n",
    "data = rx\n",
    "scaled = np.int16(data / np.max(np.abs(data)) * 32767)\n",
    "write('rx.wav', rate, scaled)"
   ]
  },
  {
   "cell_type": "code",
   "execution_count": null,
   "id": "b1588f91-2123-434e-bcc5-977272c0e5b1",
   "metadata": {},
   "outputs": [],
   "source": []
  }
 ],
 "metadata": {
  "kernelspec": {
   "display_name": "Python 3 (ipykernel)",
   "language": "python",
   "name": "python3"
  },
  "language_info": {
   "codemirror_mode": {
    "name": "ipython",
    "version": 3
   },
   "file_extension": ".py",
   "mimetype": "text/x-python",
   "name": "python",
   "nbconvert_exporter": "python",
   "pygments_lexer": "ipython3",
   "version": "3.11.11"
  }
 },
 "nbformat": 4,
 "nbformat_minor": 5
}
